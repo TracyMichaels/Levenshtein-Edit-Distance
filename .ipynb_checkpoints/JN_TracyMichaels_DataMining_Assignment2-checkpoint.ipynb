{
 "cells": [
  {
   "cell_type": "code",
   "execution_count": 1,
   "id": "8e783810",
   "metadata": {},
   "outputs": [],
   "source": [
    "import numpy as np\n",
    "from IPython.display import display"
   ]
  },
  {
   "cell_type": "markdown",
   "id": "a77e83cc",
   "metadata": {},
   "source": [
    "# Tracy Michaels\n",
    "## CSC 4740 Data Mining - Assignment 2\n",
    "***\n",
    "### Implementing an algorithm for computing edit distance\n",
    "***\n",
    "\n",
    "__Defining Edit Distance:__\n",
    "> Edit distance is a way of quantifying how dissimilar two strings are to one another by counting the minimum number of operations required to transfor one string into the other  \n",
    "\n",
    "__Applications of Edit Distance:__ \n",
    "> - Natual Language Processing (Spell check, speach recognition)\n",
    "> - Computational Biology (DNA analysis)  \n",
    "\n",
    "__Levenshtein Distance:__\n",
    "> - For this assignment I will focus on Levenshtein distance, which is one type of edit distance   \n",
    "> - This will calculate the minimum number of single-character edits (insertions, deletions, substitutions) required to transform one string into the other\n",
    "  \n",
    "> 3 operations for altering a string (each with a cost of 1 to perform):  \n",
    "> - insert  \n",
    "> - delete  \n",
    "> - replace  \n",
    "\n",
    "\n",
    "> last index in array will indicate the least number of operations to edit the strings to match\n",
    "\n"
   ]
  },
  {
   "cell_type": "markdown",
   "id": "41773003",
   "metadata": {},
   "source": [
    "***\n",
    "### Algorithm:"
   ]
  },
  {
   "cell_type": "code",
   "execution_count": 2,
   "id": "71fa5785",
   "metadata": {},
   "outputs": [],
   "source": [
    "def LevDis(s1: str, s2: str) -> int:\n",
    "    # construct array of size len(s1) by len(s2)\n",
    "    # fill row 0 and col 0 with incremental numbers from 0 to length of strings + 1 respectively\n",
    "    # adding one is done so that position [0][0] is a 0\n",
    "    lev_arr = np.zeros((len(s2) + 1, len(s1) + 1)) \n",
    "    \n",
    "    # filling initial values in row 0 and col 0\n",
    "    lev_arr[0] = [i for i in range(len(lev_arr[0]))]\n",
    "    lev_arr[:, 0] = [i for i in range(len(lev_arr[:, 0]))]\n",
    "   \n",
    "    \n",
    "    # iterate over array\n",
    "    for i in range(len(s2)):\n",
    "        for j in range(len(s1)):\n",
    "            # char matches, no incrementation\n",
    "            if s1[j] == s2[i]:\n",
    "                # take the lowest value from 'backwards-adjacent' indecies\n",
    "                # (i.e. [i-1][j-1], [i-1][j], or [i][j-1]) and place into target index\n",
    "                # need +1 for target index as strings are 0-indexed but array will be \n",
    "                # effectively 1-indexed since col[0] and row[0] are reserved for initial set-up\n",
    "                lev_arr[i + 1, j + 1] = min(lev_arr[i+1, j], lev_arr[i, j+1], lev_arr[i, j])\n",
    "            else: \n",
    "                # doesn't match, will need to perform insert, delete, or replace\n",
    "                # increment lowest value from 'backwards-adjacent' indecies \n",
    "                # (i.e. [i-1][j-1], [i-1][j], or [i][j-1]) then place into target index\n",
    "                lev_arr[i + 1, j + 1] = min(lev_arr[i+1, j], lev_arr[i, j+1], lev_arr[i, j]) + 1\n",
    "    \n",
    "    # displays array (might not work outside of jupyter as it depends on IPython.display)\n",
    "    display(lev_arr)  \n",
    "    # use this one for outside notebook\n",
    "    # print(np.matrix(lev_arr))\n",
    "    \n",
    "    # return min edit distance\n",
    "    return lev_arr[-1, -1]"
   ]
  },
  {
   "cell_type": "markdown",
   "id": "5663d12b",
   "metadata": {},
   "source": [
    "***\n",
    "## Example 1:\n",
    "> sString1 = \"kitten\"  \n",
    "> sString2 = \"sitting\""
   ]
  },
  {
   "cell_type": "code",
   "execution_count": 3,
   "id": "9c007a68",
   "metadata": {},
   "outputs": [
    {
     "data": {
      "text/plain": [
       "array([[0., 1., 2., 3., 4., 5., 6.],\n",
       "       [1., 1., 2., 3., 4., 5., 6.],\n",
       "       [2., 2., 1., 2., 3., 4., 5.],\n",
       "       [3., 3., 2., 1., 1., 2., 3.],\n",
       "       [4., 4., 3., 1., 1., 2., 3.],\n",
       "       [5., 5., 3., 2., 2., 2., 3.],\n",
       "       [6., 6., 4., 3., 3., 3., 2.],\n",
       "       [7., 7., 5., 4., 4., 4., 3.]])"
      ]
     },
     "metadata": {},
     "output_type": "display_data"
    },
    {
     "name": "stdout",
     "output_type": "stream",
     "text": [
      "Minimum edit distance between 'kitten' and 'sitting' is 3.0\n"
     ]
    }
   ],
   "source": [
    "s1_1 = \"kitten\"  \n",
    "s2_1 = \"sitting\"\n",
    "\n",
    "res_ex1 = LevDis(s1_1, s2_1)\n",
    "\n",
    "print(f'Minimum edit distance between \\'{s1_1}\\' and \\'{s2_1}\\' is {res_ex1}' )"
   ]
  },
  {
   "cell_type": "markdown",
   "id": "28db9f4e",
   "metadata": {},
   "source": [
    "***\n",
    "## Example 2:\n",
    "> sString1 = \"GAMBOL\"  \n",
    "> sString2 = \"GUMBO\""
   ]
  },
  {
   "cell_type": "code",
   "execution_count": 4,
   "id": "e05fef6b",
   "metadata": {},
   "outputs": [
    {
     "data": {
      "text/plain": [
       "array([[0., 1., 2., 3., 4., 5., 6.],\n",
       "       [1., 0., 1., 2., 3., 4., 5.],\n",
       "       [2., 1., 1., 2., 3., 4., 5.],\n",
       "       [3., 2., 2., 1., 2., 3., 4.],\n",
       "       [4., 3., 3., 2., 1., 2., 3.],\n",
       "       [5., 4., 4., 3., 2., 1., 2.]])"
      ]
     },
     "metadata": {},
     "output_type": "display_data"
    },
    {
     "name": "stdout",
     "output_type": "stream",
     "text": [
      "Minimum edit distance between 'GAMBOL' and 'GUMBO' is 2.0\n"
     ]
    }
   ],
   "source": [
    "s1_2 = \"GAMBOL\"  \n",
    "s2_2 = \"GUMBO\"\n",
    "\n",
    "res_ex2 = LevDis(s1_2, s2_2)\n",
    "\n",
    "print(f'Minimum edit distance between \\'{s1_2}\\' and \\'{s2_2}\\' is {res_ex2}' )"
   ]
  },
  {
   "cell_type": "markdown",
   "id": "0d0347b6",
   "metadata": {},
   "source": [
    "***\n",
    "### Observations:\n",
    "\n",
    "One observation I found interesting was the relationship between the target index and those indicies surrounding it, and how that relationship played a large role in the algorithm itself.  The output makes sense as in each step the algorithm is selecting the minimum value from the select adjacent indicies culminiating in the last one being the one that would represent the least amount of steps required to transform one into the others."
   ]
  }
 ],
 "metadata": {
  "kernelspec": {
   "display_name": "Python 3",
   "language": "python",
   "name": "python3"
  },
  "language_info": {
   "codemirror_mode": {
    "name": "ipython",
    "version": 3
   },
   "file_extension": ".py",
   "mimetype": "text/x-python",
   "name": "python",
   "nbconvert_exporter": "python",
   "pygments_lexer": "ipython3",
   "version": "3.8.8"
  }
 },
 "nbformat": 4,
 "nbformat_minor": 5
}
